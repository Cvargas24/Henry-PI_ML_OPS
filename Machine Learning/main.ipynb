{
 "cells": [
  {
   "attachments": {},
   "cell_type": "markdown",
   "metadata": {},
   "source": [
    "### Sistema de Recomendacion\n",
    "- Para esta parte de Machine Learning nos apoyamos fuertemente en <a href = 'https://rubialesalberto.medium.com/singular-value-decomposition-svd-con-python-creando-un-sistema-de-recomendacion-640de1b8b002'> Sistema de Recomendacion con SVD </a>"
   ]
  },
  {
   "cell_type": "code",
   "execution_count": 104,
   "metadata": {},
   "outputs": [],
   "source": [
    "import pandas as pd\n",
    "import numpy as np\n"
   ]
  },
  {
   "cell_type": "code",
   "execution_count": 105,
   "metadata": {},
   "outputs": [],
   "source": [
    "from surprise import SVD\n",
    "from surprise import Dataset, SVDpp\n",
    "from surprise import Reader\n",
    "from surprise.model_selection import train_test_split"
   ]
  },
  {
   "cell_type": "code",
   "execution_count": 106,
   "metadata": {},
   "outputs": [],
   "source": [
    "\n",
    "from surprise import accuracy\n",
    "from collections import defaultdict"
   ]
  },
  {
   "cell_type": "code",
   "execution_count": 107,
   "metadata": {},
   "outputs": [
    {
     "name": "stderr",
     "output_type": "stream",
     "text": [
      "C:\\Users\\Carlos\\AppData\\Local\\Temp\\ipykernel_12244\\2326379126.py:2: DtypeWarning: Columns (3,4,5,6) have mixed types. Specify dtype option on import or set low_memory=False.\n",
      "  df_aux = pd.read_csv('data_total.csv')\n"
     ]
    },
    {
     "data": {
      "text/html": [
       "<div>\n",
       "<style scoped>\n",
       "    .dataframe tbody tr th:only-of-type {\n",
       "        vertical-align: middle;\n",
       "    }\n",
       "\n",
       "    .dataframe tbody tr th {\n",
       "        vertical-align: top;\n",
       "    }\n",
       "\n",
       "    .dataframe thead th {\n",
       "        text-align: right;\n",
       "    }\n",
       "</style>\n",
       "<table border=\"1\" class=\"dataframe\">\n",
       "  <thead>\n",
       "    <tr style=\"text-align: right;\">\n",
       "      <th></th>\n",
       "      <th>id</th>\n",
       "      <th>type</th>\n",
       "      <th>title</th>\n",
       "      <th>director</th>\n",
       "      <th>cast</th>\n",
       "      <th>country</th>\n",
       "      <th>date_added</th>\n",
       "      <th>release_year</th>\n",
       "      <th>rating_x</th>\n",
       "      <th>duration_int</th>\n",
       "      <th>duration_type</th>\n",
       "      <th>listed_in</th>\n",
       "      <th>description</th>\n",
       "      <th>userId</th>\n",
       "      <th>rating_y</th>\n",
       "      <th>timestamp</th>\n",
       "      <th>score</th>\n",
       "    </tr>\n",
       "  </thead>\n",
       "  <tbody>\n",
       "    <tr>\n",
       "      <th>0</th>\n",
       "      <td>as1</td>\n",
       "      <td>movie</td>\n",
       "      <td>the grand seduction</td>\n",
       "      <td>don mckellar</td>\n",
       "      <td>brendan gleeson, taylor kitsch, gordon pinsent</td>\n",
       "      <td>canada</td>\n",
       "      <td>2021-03-30</td>\n",
       "      <td>2014</td>\n",
       "      <td>g</td>\n",
       "      <td>113</td>\n",
       "      <td>min</td>\n",
       "      <td>comedy, drama</td>\n",
       "      <td>a small fishing village must procure a local d...</td>\n",
       "      <td>543</td>\n",
       "      <td>5.0</td>\n",
       "      <td>1059596582</td>\n",
       "      <td>3.4671</td>\n",
       "    </tr>\n",
       "    <tr>\n",
       "      <th>1</th>\n",
       "      <td>as1</td>\n",
       "      <td>movie</td>\n",
       "      <td>the grand seduction</td>\n",
       "      <td>don mckellar</td>\n",
       "      <td>brendan gleeson, taylor kitsch, gordon pinsent</td>\n",
       "      <td>canada</td>\n",
       "      <td>2021-03-30</td>\n",
       "      <td>2014</td>\n",
       "      <td>g</td>\n",
       "      <td>113</td>\n",
       "      <td>min</td>\n",
       "      <td>comedy, drama</td>\n",
       "      <td>a small fishing village must procure a local d...</td>\n",
       "      <td>595</td>\n",
       "      <td>3.0</td>\n",
       "      <td>839937603</td>\n",
       "      <td>3.4671</td>\n",
       "    </tr>\n",
       "  </tbody>\n",
       "</table>\n",
       "</div>"
      ],
      "text/plain": [
       "    id   type                title      director  \\\n",
       "0  as1  movie  the grand seduction  don mckellar   \n",
       "1  as1  movie  the grand seduction  don mckellar   \n",
       "\n",
       "                                             cast country  date_added  \\\n",
       "0  brendan gleeson, taylor kitsch, gordon pinsent  canada  2021-03-30   \n",
       "1  brendan gleeson, taylor kitsch, gordon pinsent  canada  2021-03-30   \n",
       "\n",
       "   release_year rating_x  duration_int duration_type      listed_in  \\\n",
       "0          2014        g           113           min  comedy, drama   \n",
       "1          2014        g           113           min  comedy, drama   \n",
       "\n",
       "                                         description  userId  rating_y  \\\n",
       "0  a small fishing village must procure a local d...     543       5.0   \n",
       "1  a small fishing village must procure a local d...     595       3.0   \n",
       "\n",
       "    timestamp   score  \n",
       "0  1059596582  3.4671  \n",
       "1   839937603  3.4671  "
      ]
     },
     "execution_count": 107,
     "metadata": {},
     "output_type": "execute_result"
    }
   ],
   "source": [
    "# Cargamos todo el dataset. \n",
    "df_aux = pd.read_csv('data_total.csv')\n",
    "df_aux.head(2)\n"
   ]
  },
  {
   "cell_type": "code",
   "execution_count": 108,
   "metadata": {},
   "outputs": [],
   "source": [
    "# Vemos que columnas usaremos para nuestro Sistema de Recomendacion.\n",
    "columnas = ['id', 'title', 'listed_in', 'userId', 'rating_y']\n"
   ]
  },
  {
   "cell_type": "code",
   "execution_count": 109,
   "metadata": {},
   "outputs": [
    {
     "data": {
      "text/html": [
       "<div>\n",
       "<style scoped>\n",
       "    .dataframe tbody tr th:only-of-type {\n",
       "        vertical-align: middle;\n",
       "    }\n",
       "\n",
       "    .dataframe tbody tr th {\n",
       "        vertical-align: top;\n",
       "    }\n",
       "\n",
       "    .dataframe thead th {\n",
       "        text-align: right;\n",
       "    }\n",
       "</style>\n",
       "<table border=\"1\" class=\"dataframe\">\n",
       "  <thead>\n",
       "    <tr style=\"text-align: right;\">\n",
       "      <th></th>\n",
       "      <th>id</th>\n",
       "      <th>title</th>\n",
       "      <th>listed_in</th>\n",
       "      <th>userId</th>\n",
       "      <th>rating_y</th>\n",
       "    </tr>\n",
       "  </thead>\n",
       "  <tbody>\n",
       "    <tr>\n",
       "      <th>0</th>\n",
       "      <td>as1</td>\n",
       "      <td>the grand seduction</td>\n",
       "      <td>comedy, drama</td>\n",
       "      <td>543</td>\n",
       "      <td>5.0</td>\n",
       "    </tr>\n",
       "    <tr>\n",
       "      <th>1</th>\n",
       "      <td>as1</td>\n",
       "      <td>the grand seduction</td>\n",
       "      <td>comedy, drama</td>\n",
       "      <td>595</td>\n",
       "      <td>3.0</td>\n",
       "    </tr>\n",
       "    <tr>\n",
       "      <th>2</th>\n",
       "      <td>as1</td>\n",
       "      <td>the grand seduction</td>\n",
       "      <td>comedy, drama</td>\n",
       "      <td>611</td>\n",
       "      <td>3.0</td>\n",
       "    </tr>\n",
       "    <tr>\n",
       "      <th>3</th>\n",
       "      <td>as1</td>\n",
       "      <td>the grand seduction</td>\n",
       "      <td>comedy, drama</td>\n",
       "      <td>2523</td>\n",
       "      <td>3.5</td>\n",
       "    </tr>\n",
       "    <tr>\n",
       "      <th>4</th>\n",
       "      <td>as1</td>\n",
       "      <td>the grand seduction</td>\n",
       "      <td>comedy, drama</td>\n",
       "      <td>3082</td>\n",
       "      <td>4.0</td>\n",
       "    </tr>\n",
       "    <tr>\n",
       "      <th>...</th>\n",
       "      <td>...</td>\n",
       "      <td>...</td>\n",
       "      <td>...</td>\n",
       "      <td>...</td>\n",
       "      <td>...</td>\n",
       "    </tr>\n",
       "    <tr>\n",
       "      <th>11024284</th>\n",
       "      <td>ns8807</td>\n",
       "      <td>zubaan</td>\n",
       "      <td>dramas, international movies, music &amp; musicals</td>\n",
       "      <td>122699</td>\n",
       "      <td>4.0</td>\n",
       "    </tr>\n",
       "    <tr>\n",
       "      <th>11024285</th>\n",
       "      <td>ns8807</td>\n",
       "      <td>zubaan</td>\n",
       "      <td>dramas, international movies, music &amp; musicals</td>\n",
       "      <td>122869</td>\n",
       "      <td>4.0</td>\n",
       "    </tr>\n",
       "    <tr>\n",
       "      <th>11024286</th>\n",
       "      <td>ns8807</td>\n",
       "      <td>zubaan</td>\n",
       "      <td>dramas, international movies, music &amp; musicals</td>\n",
       "      <td>123708</td>\n",
       "      <td>3.0</td>\n",
       "    </tr>\n",
       "    <tr>\n",
       "      <th>11024287</th>\n",
       "      <td>ns8807</td>\n",
       "      <td>zubaan</td>\n",
       "      <td>dramas, international movies, music &amp; musicals</td>\n",
       "      <td>123841</td>\n",
       "      <td>4.0</td>\n",
       "    </tr>\n",
       "    <tr>\n",
       "      <th>11024288</th>\n",
       "      <td>ns8807</td>\n",
       "      <td>zubaan</td>\n",
       "      <td>dramas, international movies, music &amp; musicals</td>\n",
       "      <td>124184</td>\n",
       "      <td>3.0</td>\n",
       "    </tr>\n",
       "  </tbody>\n",
       "</table>\n",
       "<p>11024289 rows × 5 columns</p>\n",
       "</div>"
      ],
      "text/plain": [
       "              id                title  \\\n",
       "0            as1  the grand seduction   \n",
       "1            as1  the grand seduction   \n",
       "2            as1  the grand seduction   \n",
       "3            as1  the grand seduction   \n",
       "4            as1  the grand seduction   \n",
       "...          ...                  ...   \n",
       "11024284  ns8807               zubaan   \n",
       "11024285  ns8807               zubaan   \n",
       "11024286  ns8807               zubaan   \n",
       "11024287  ns8807               zubaan   \n",
       "11024288  ns8807               zubaan   \n",
       "\n",
       "                                               listed_in  userId  rating_y  \n",
       "0                                          comedy, drama     543       5.0  \n",
       "1                                          comedy, drama     595       3.0  \n",
       "2                                          comedy, drama     611       3.0  \n",
       "3                                          comedy, drama    2523       3.5  \n",
       "4                                          comedy, drama    3082       4.0  \n",
       "...                                                  ...     ...       ...  \n",
       "11024284  dramas, international movies, music & musicals  122699       4.0  \n",
       "11024285  dramas, international movies, music & musicals  122869       4.0  \n",
       "11024286  dramas, international movies, music & musicals  123708       3.0  \n",
       "11024287  dramas, international movies, music & musicals  123841       4.0  \n",
       "11024288  dramas, international movies, music & musicals  124184       3.0  \n",
       "\n",
       "[11024289 rows x 5 columns]"
      ]
     },
     "execution_count": 109,
     "metadata": {},
     "output_type": "execute_result"
    }
   ],
   "source": [
    "df = df_aux[columnas]\n",
    "df"
   ]
  },
  {
   "cell_type": "code",
   "execution_count": 110,
   "metadata": {},
   "outputs": [
    {
     "data": {
      "text/html": [
       "<div>\n",
       "<style scoped>\n",
       "    .dataframe tbody tr th:only-of-type {\n",
       "        vertical-align: middle;\n",
       "    }\n",
       "\n",
       "    .dataframe tbody tr th {\n",
       "        vertical-align: top;\n",
       "    }\n",
       "\n",
       "    .dataframe thead th {\n",
       "        text-align: right;\n",
       "    }\n",
       "</style>\n",
       "<table border=\"1\" class=\"dataframe\">\n",
       "  <thead>\n",
       "    <tr style=\"text-align: right;\">\n",
       "      <th></th>\n",
       "      <th>movieId</th>\n",
       "      <th>title</th>\n",
       "      <th>listed_in</th>\n",
       "      <th>userId</th>\n",
       "      <th>score</th>\n",
       "    </tr>\n",
       "  </thead>\n",
       "  <tbody>\n",
       "    <tr>\n",
       "      <th>0</th>\n",
       "      <td>as1</td>\n",
       "      <td>the grand seduction</td>\n",
       "      <td>comedy, drama</td>\n",
       "      <td>543</td>\n",
       "      <td>5.0</td>\n",
       "    </tr>\n",
       "    <tr>\n",
       "      <th>1</th>\n",
       "      <td>as1</td>\n",
       "      <td>the grand seduction</td>\n",
       "      <td>comedy, drama</td>\n",
       "      <td>595</td>\n",
       "      <td>3.0</td>\n",
       "    </tr>\n",
       "    <tr>\n",
       "      <th>2</th>\n",
       "      <td>as1</td>\n",
       "      <td>the grand seduction</td>\n",
       "      <td>comedy, drama</td>\n",
       "      <td>611</td>\n",
       "      <td>3.0</td>\n",
       "    </tr>\n",
       "    <tr>\n",
       "      <th>3</th>\n",
       "      <td>as1</td>\n",
       "      <td>the grand seduction</td>\n",
       "      <td>comedy, drama</td>\n",
       "      <td>2523</td>\n",
       "      <td>3.5</td>\n",
       "    </tr>\n",
       "    <tr>\n",
       "      <th>4</th>\n",
       "      <td>as1</td>\n",
       "      <td>the grand seduction</td>\n",
       "      <td>comedy, drama</td>\n",
       "      <td>3082</td>\n",
       "      <td>4.0</td>\n",
       "    </tr>\n",
       "    <tr>\n",
       "      <th>...</th>\n",
       "      <td>...</td>\n",
       "      <td>...</td>\n",
       "      <td>...</td>\n",
       "      <td>...</td>\n",
       "      <td>...</td>\n",
       "    </tr>\n",
       "    <tr>\n",
       "      <th>11024284</th>\n",
       "      <td>ns8807</td>\n",
       "      <td>zubaan</td>\n",
       "      <td>dramas, international movies, music &amp; musicals</td>\n",
       "      <td>122699</td>\n",
       "      <td>4.0</td>\n",
       "    </tr>\n",
       "    <tr>\n",
       "      <th>11024285</th>\n",
       "      <td>ns8807</td>\n",
       "      <td>zubaan</td>\n",
       "      <td>dramas, international movies, music &amp; musicals</td>\n",
       "      <td>122869</td>\n",
       "      <td>4.0</td>\n",
       "    </tr>\n",
       "    <tr>\n",
       "      <th>11024286</th>\n",
       "      <td>ns8807</td>\n",
       "      <td>zubaan</td>\n",
       "      <td>dramas, international movies, music &amp; musicals</td>\n",
       "      <td>123708</td>\n",
       "      <td>3.0</td>\n",
       "    </tr>\n",
       "    <tr>\n",
       "      <th>11024287</th>\n",
       "      <td>ns8807</td>\n",
       "      <td>zubaan</td>\n",
       "      <td>dramas, international movies, music &amp; musicals</td>\n",
       "      <td>123841</td>\n",
       "      <td>4.0</td>\n",
       "    </tr>\n",
       "    <tr>\n",
       "      <th>11024288</th>\n",
       "      <td>ns8807</td>\n",
       "      <td>zubaan</td>\n",
       "      <td>dramas, international movies, music &amp; musicals</td>\n",
       "      <td>124184</td>\n",
       "      <td>3.0</td>\n",
       "    </tr>\n",
       "  </tbody>\n",
       "</table>\n",
       "<p>11024289 rows × 5 columns</p>\n",
       "</div>"
      ],
      "text/plain": [
       "         movieId                title  \\\n",
       "0            as1  the grand seduction   \n",
       "1            as1  the grand seduction   \n",
       "2            as1  the grand seduction   \n",
       "3            as1  the grand seduction   \n",
       "4            as1  the grand seduction   \n",
       "...          ...                  ...   \n",
       "11024284  ns8807               zubaan   \n",
       "11024285  ns8807               zubaan   \n",
       "11024286  ns8807               zubaan   \n",
       "11024287  ns8807               zubaan   \n",
       "11024288  ns8807               zubaan   \n",
       "\n",
       "                                               listed_in  userId  score  \n",
       "0                                          comedy, drama     543    5.0  \n",
       "1                                          comedy, drama     595    3.0  \n",
       "2                                          comedy, drama     611    3.0  \n",
       "3                                          comedy, drama    2523    3.5  \n",
       "4                                          comedy, drama    3082    4.0  \n",
       "...                                                  ...     ...    ...  \n",
       "11024284  dramas, international movies, music & musicals  122699    4.0  \n",
       "11024285  dramas, international movies, music & musicals  122869    4.0  \n",
       "11024286  dramas, international movies, music & musicals  123708    3.0  \n",
       "11024287  dramas, international movies, music & musicals  123841    4.0  \n",
       "11024288  dramas, international movies, music & musicals  124184    3.0  \n",
       "\n",
       "[11024289 rows x 5 columns]"
      ]
     },
     "execution_count": 110,
     "metadata": {},
     "output_type": "execute_result"
    }
   ],
   "source": [
    "df = df.rename(columns={\"id\": \"movieId\", \"rating_y\": \"score\"})\n",
    "df"
   ]
  },
  {
   "cell_type": "code",
   "execution_count": 111,
   "metadata": {},
   "outputs": [
    {
     "data": {
      "text/plain": [
       "married at first sight                      1938\n",
       "moesha                                      1524\n",
       "national treasure                           1501\n",
       "cold case files                             1485\n",
       "yu-gi-oh! arc-v                             1483\n",
       "                                            ... \n",
       "dave                                         404\n",
       "cop and a half: new recruit                  402\n",
       "i am alone                                   401\n",
       "rob schneider: asian momma, mexican kids     399\n",
       "mitzi (nbc 1968)                             396\n",
       "Name: title, Length: 22042, dtype: int64"
      ]
     },
     "execution_count": 111,
     "metadata": {},
     "output_type": "execute_result"
    }
   ],
   "source": [
    "# Vemos las peliculas con mayor popularidad. Nos basamos en la cantidad de veces que un usuario puntuo cierta pelicula. \n",
    "df.title.value_counts()\n",
    "\n"
   ]
  },
  {
   "cell_type": "code",
   "execution_count": null,
   "metadata": {},
   "outputs": [],
   "source": []
  },
  {
   "attachments": {},
   "cell_type": "markdown",
   "metadata": {},
   "source": [
    "Usamos Reader() del paquete Surprise para poner los datos en el formato que nos piden los algoritmos\n"
   ]
  },
  {
   "cell_type": "code",
   "execution_count": 112,
   "metadata": {},
   "outputs": [],
   "source": [
    "reader = Reader()\n"
   ]
  },
  {
   "cell_type": "code",
   "execution_count": 113,
   "metadata": {},
   "outputs": [],
   "source": [
    "N_filas = 100000 # Limitamos el dataset a N_filas\n",
    "\n",
    "data = Dataset.load_from_df(df[['userId', 'movieId', 'score']][:N_filas], reader)"
   ]
  },
  {
   "cell_type": "code",
   "execution_count": 114,
   "metadata": {},
   "outputs": [
    {
     "name": "stdout",
     "output_type": "stream",
     "text": [
      "MAE:  0.8425\n",
      "RMSE: 1.0545\n"
     ]
    },
    {
     "data": {
      "text/plain": [
       "1.0544690154655187"
      ]
     },
     "execution_count": 114,
     "metadata": {},
     "output_type": "execute_result"
    }
   ],
   "source": [
    "# Separo en train y test\n",
    "train, test = train_test_split(data, test_size=0.25)\n",
    "\n",
    "# Instanciamos el algoritmo y entrenamos\n",
    "svd = SVDpp()\n",
    "svd.fit(train)\n",
    "preds = svd.test(test)\n",
    "\n",
    "# Métricas de evaluación\n",
    "accuracy.mae(preds)\n",
    "accuracy.rmse(preds)\n"
   ]
  },
  {
   "cell_type": "code",
   "execution_count": 115,
   "metadata": {},
   "outputs": [
    {
     "data": {
      "text/plain": [
       "<surprise.prediction_algorithms.matrix_factorization.SVDpp at 0x1aabab09780>"
      ]
     },
     "execution_count": 115,
     "metadata": {},
     "output_type": "execute_result"
    }
   ],
   "source": [
    "\n",
    "# Creamos todo el dataset completo con Train y Test\n",
    "trainfull = data.build_full_trainset()\n",
    "\n",
    "# Instanciamos de nuevo el algoritmo\n",
    "svd = SVDpp()\n",
    "# Entrenamos el algoritmo\n",
    "svd.fit(trainfull)\n",
    "\n"
   ]
  },
  {
   "cell_type": "code",
   "execution_count": 116,
   "metadata": {},
   "outputs": [
    {
     "data": {
      "text/plain": [
       "Prediction(uid=1, iid=1, r_ui=None, est=3.533905, details={'was_impossible': False})"
      ]
     },
     "execution_count": 116,
     "metadata": {},
     "output_type": "execute_result"
    }
   ],
   "source": [
    "# Realizamos una predicción para ver que todo funciona\n",
    "svd.predict(uid=1, iid=1)"
   ]
  },
  {
   "cell_type": "code",
   "execution_count": 117,
   "metadata": {},
   "outputs": [],
   "source": [
    "\n",
    "# Creamos una función que pasandole, un usuario, un DataFrame, un algoritmo y el número de recomendaciones que queremos\n",
    "#  con los parametros, devuelve las mejores n peliculas.\n",
    "def recommend_system(userId, dataframe, algorithm, n_commends):\n",
    "    \"\"\"\n",
    "    Parametros\n",
    "    -----------\n",
    "    userId: El Id de usuario de la persona que queremos recomendarle peliculas.\n",
    "    dataframe: El dataframe que utilizamos.\n",
    "    algoritmo: El algoritmo que creamos para recomendar peliculas.\n",
    "    n_commends: El numero de peliculas recomendadas\n",
    "    return\n",
    "    ------\n",
    "    IDs de peliculas que a un usuario especifico le gustarian..\n",
    "    \"\"\"\n",
    "    movie_ids = df['movieId'].to_list()\n",
    "    movies_watched = dataframe[dataframe[\"userId\"] == userId][\"movieId\"]\n",
    "    movies_no_watched = [movie for movie in movie_ids if movie not in movies_watched]\n",
    "\n",
    "    preds = [algorithm.predict(uid=userId, iid=movie) for movie in movies_no_watched]\n",
    "    commends_ratting = {pred[1]:pred[3] for pred in preds}\n",
    "    order_dict = {k: v for k, v in sorted(commends_ratting.items(), key=lambda item: item[1])}\n",
    "\n",
    "    top_predictions = list(order_dict.keys())[:n_commends]\n",
    "\n",
    "    return dataframe[dataframe[\"movieId\"].isin(top_predictions)][[\"title\"]].drop_duplicates()\n",
    "\n",
    "\n"
   ]
  },
  {
   "cell_type": "code",
   "execution_count": 118,
   "metadata": {},
   "outputs": [],
   "source": [
    "#Función que nos da las películas de un usuario que más le gustan, según la puntuación que le ha dado\n",
    "def check_movies_user(userId, dataframe, n):\n",
    "    return dataframe[dataframe[\"userId\"] ==userId].sort_values(\"score\", ascending=False)[:n] \n",
    " \n"
   ]
  },
  {
   "cell_type": "code",
   "execution_count": 122,
   "metadata": {},
   "outputs": [],
   "source": [
    "#Vemos las películas que ve, y las que le hemos recomendado.\n",
    "movies_recommended = recommend_system(3, df, svd, 5)"
   ]
  },
  {
   "cell_type": "code",
   "execution_count": 120,
   "metadata": {},
   "outputs": [
    {
     "name": "stdout",
     "output_type": "stream",
     "text": [
      "Movies user likes:          movieId                                           title  \\\n",
      "6311426   hs2056                    biography: the trump dynasty   \n",
      "5743811    hs871                                     mayans m.c.   \n",
      "10330254  ns7360                                      lucky days   \n",
      "9496761   ns5624                                    semana santa   \n",
      "9395246   ns5413                                  criminal minds   \n",
      "8707262   ns3980                       charlie's colorforms city   \n",
      "8554979   ns3663  frankenstein’s monster’s monster, frankenstein   \n",
      "7427291   ns1310                        my teacher, my obsession   \n",
      "6466982   hs2381                               la diosa coronada   \n",
      "755418    as1577                                       mr. robot   \n",
      "10916767  ns8584                              thorne: sleepyhead   \n",
      "4550923   as9500                                      kept woman   \n",
      "3311191   as6909                                    mexican moon   \n",
      "2930085   as6112                                          salome   \n",
      "2081016   as4340                                bright hill road   \n",
      "7847377   ns2186                  latte and the magic waterstone   \n",
      "10771900  ns8282                                    the drowning   \n",
      "5482619    hs327                                   chaos walking   \n",
      "5039665    ds853            disney's the little mermaid (series)   \n",
      "6860556    ns128                              a cinderella story   \n",
      "\n",
      "                                                  listed_in  userId  score  \n",
      "6311426                                       documentaries       1    5.0  \n",
      "5743811                                        crime, drama       1    5.0  \n",
      "10330254  international tv shows, romantic tv shows, tv ...       1    5.0  \n",
      "9496761                        dramas, international movies       1    5.0  \n",
      "9395246             crime tv shows, tv dramas, tv mysteries       1    5.0  \n",
      "8707262                                            kids' tv       1    5.0  \n",
      "8554979                                            comedies       1    5.0  \n",
      "7427291                                           thrillers       1    5.0  \n",
      "6466982                                crime, drama, latino       1    5.0  \n",
      "755418                                             tv shows       1    5.0  \n",
      "10916767                       dramas, international movies       1    5.0  \n",
      "4550923                                     drama, suspense       1    5.0  \n",
      "3311191                                      drama, western       1    5.0  \n",
      "2930085                                       international       1    5.0  \n",
      "2081016                             drama, horror, suspense       1    5.0  \n",
      "7847377                  children & family movies, comedies       1    4.5  \n",
      "10771900                                          thrillers       1    4.5  \n",
      "5482619                          adventure, science fiction       1    4.0  \n",
      "5039665                action-adventure, animation, fantasy       1    4.0  \n",
      "6860556                  children & family movies, comedies       1    4.0  \n"
     ]
    }
   ],
   "source": [
    "print(f\"Movies user likes:\", check_movies_user(3, df, 20))\n"
   ]
  },
  {
   "cell_type": "code",
   "execution_count": 121,
   "metadata": {},
   "outputs": [
    {
     "name": "stdout",
     "output_type": "stream",
     "text": [
      "ID of the movies recommended:                                      title\n",
      "11981               zambezi: force of life\n",
      "22510  yoga for mindfulness and meditation\n",
      "26915                      yancy derringer\n",
      "58508                    where hands touch\n",
      "65690                                wendy\n"
     ]
    }
   ],
   "source": [
    "print(\"ID of the movies recommended:\", movies_recommended)"
   ]
  },
  {
   "cell_type": "code",
   "execution_count": null,
   "metadata": {},
   "outputs": [],
   "source": []
  },
  {
   "cell_type": "code",
   "execution_count": null,
   "metadata": {},
   "outputs": [],
   "source": []
  },
  {
   "cell_type": "code",
   "execution_count": null,
   "metadata": {},
   "outputs": [],
   "source": []
  },
  {
   "cell_type": "code",
   "execution_count": null,
   "metadata": {},
   "outputs": [],
   "source": []
  },
  {
   "cell_type": "code",
   "execution_count": null,
   "metadata": {},
   "outputs": [],
   "source": []
  },
  {
   "cell_type": "code",
   "execution_count": null,
   "metadata": {},
   "outputs": [],
   "source": []
  },
  {
   "cell_type": "code",
   "execution_count": null,
   "metadata": {},
   "outputs": [],
   "source": []
  },
  {
   "cell_type": "code",
   "execution_count": null,
   "metadata": {},
   "outputs": [],
   "source": []
  },
  {
   "cell_type": "code",
   "execution_count": null,
   "metadata": {},
   "outputs": [],
   "source": [
    "\n"
   ]
  }
 ],
 "metadata": {
  "kernelspec": {
   "display_name": "Python 3",
   "language": "python",
   "name": "python3"
  },
  "language_info": {
   "codemirror_mode": {
    "name": "ipython",
    "version": 3
   },
   "file_extension": ".py",
   "mimetype": "text/x-python",
   "name": "python",
   "nbconvert_exporter": "python",
   "pygments_lexer": "ipython3",
   "version": "3.10.6"
  },
  "orig_nbformat": 4,
  "vscode": {
   "interpreter": {
    "hash": "26de051ba29f2982a8de78e945f0abaf191376122a1563185a90213a26c5da77"
   }
  }
 },
 "nbformat": 4,
 "nbformat_minor": 2
}
