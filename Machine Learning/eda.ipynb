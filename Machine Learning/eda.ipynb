{
 "cells": [
  {
   "cell_type": "code",
   "execution_count": 65,
   "metadata": {},
   "outputs": [],
   "source": [
    "import pandas as pd\n",
    "import numpy as np\n",
    "\n",
    "import matplotlib.pyplot as plt\n",
    "import seaborn as sns\n",
    "%matplotlib inline"
   ]
  },
  {
   "attachments": {},
   "cell_type": "markdown",
   "metadata": {},
   "source": [
    "##### Análisis exploratorio de los datos:  (Exploratory Data Analysis-EDA)\n",
    "\n"
   ]
  },
  {
   "cell_type": "code",
   "execution_count": 66,
   "metadata": {},
   "outputs": [
    {
     "data": {
      "text/html": [
       "<div>\n",
       "<style scoped>\n",
       "    .dataframe tbody tr th:only-of-type {\n",
       "        vertical-align: middle;\n",
       "    }\n",
       "\n",
       "    .dataframe tbody tr th {\n",
       "        vertical-align: top;\n",
       "    }\n",
       "\n",
       "    .dataframe thead th {\n",
       "        text-align: right;\n",
       "    }\n",
       "</style>\n",
       "<table border=\"1\" class=\"dataframe\">\n",
       "  <thead>\n",
       "    <tr style=\"text-align: right;\">\n",
       "      <th></th>\n",
       "      <th>id</th>\n",
       "      <th>type</th>\n",
       "      <th>title</th>\n",
       "      <th>director</th>\n",
       "      <th>cast</th>\n",
       "      <th>country</th>\n",
       "      <th>date_added</th>\n",
       "      <th>release_year</th>\n",
       "      <th>rating</th>\n",
       "      <th>duration_int</th>\n",
       "      <th>duration_type</th>\n",
       "      <th>listed_in</th>\n",
       "      <th>description</th>\n",
       "      <th>score</th>\n",
       "    </tr>\n",
       "  </thead>\n",
       "  <tbody>\n",
       "    <tr>\n",
       "      <th>0</th>\n",
       "      <td>as1</td>\n",
       "      <td>movie</td>\n",
       "      <td>the grand seduction</td>\n",
       "      <td>don mckellar</td>\n",
       "      <td>brendan gleeson, taylor kitsch, gordon pinsent</td>\n",
       "      <td>canada</td>\n",
       "      <td>2021-03-30</td>\n",
       "      <td>2014</td>\n",
       "      <td>g</td>\n",
       "      <td>113</td>\n",
       "      <td>min</td>\n",
       "      <td>comedy, drama</td>\n",
       "      <td>a small fishing village must procure a local d...</td>\n",
       "      <td>3.4671</td>\n",
       "    </tr>\n",
       "    <tr>\n",
       "      <th>1</th>\n",
       "      <td>as2</td>\n",
       "      <td>movie</td>\n",
       "      <td>take care good night</td>\n",
       "      <td>girish joshi</td>\n",
       "      <td>mahesh manjrekar, abhay mahajan, sachin khedekar</td>\n",
       "      <td>india</td>\n",
       "      <td>2021-03-30</td>\n",
       "      <td>2018</td>\n",
       "      <td>13+</td>\n",
       "      <td>110</td>\n",
       "      <td>min</td>\n",
       "      <td>drama, international</td>\n",
       "      <td>a metro family decides to fight a cyber crimin...</td>\n",
       "      <td>3.5487</td>\n",
       "    </tr>\n",
       "  </tbody>\n",
       "</table>\n",
       "</div>"
      ],
      "text/plain": [
       "    id   type                 title      director  \\\n",
       "0  as1  movie   the grand seduction  don mckellar   \n",
       "1  as2  movie  take care good night  girish joshi   \n",
       "\n",
       "                                               cast country  date_added  \\\n",
       "0    brendan gleeson, taylor kitsch, gordon pinsent  canada  2021-03-30   \n",
       "1  mahesh manjrekar, abhay mahajan, sachin khedekar   india  2021-03-30   \n",
       "\n",
       "   release_year rating  duration_int duration_type             listed_in  \\\n",
       "0          2014      g           113           min         comedy, drama   \n",
       "1          2018    13+           110           min  drama, international   \n",
       "\n",
       "                                         description   score  \n",
       "0  a small fishing village must procure a local d...  3.4671  \n",
       "1  a metro family decides to fight a cyber crimin...  3.5487  "
      ]
     },
     "execution_count": 66,
     "metadata": {},
     "output_type": "execute_result"
    }
   ],
   "source": [
    "# Cargamos el dataset de las 4 plataformas\n",
    "\n",
    "df = pd.read_csv('data_score_titles.csv')\n",
    "df.head(2)"
   ]
  },
  {
   "cell_type": "code",
   "execution_count": 67,
   "metadata": {},
   "outputs": [
    {
     "name": "stderr",
     "output_type": "stream",
     "text": [
      "C:\\Users\\Carlos\\AppData\\Local\\Temp\\ipykernel_15128\\2070674332.py:1: DtypeWarning: Columns (3,4,5,6) have mixed types. Specify dtype option on import or set low_memory=False.\n",
      "  df_total = pd.read_csv('data_total.csv')\n"
     ]
    },
    {
     "data": {
      "text/html": [
       "<div>\n",
       "<style scoped>\n",
       "    .dataframe tbody tr th:only-of-type {\n",
       "        vertical-align: middle;\n",
       "    }\n",
       "\n",
       "    .dataframe tbody tr th {\n",
       "        vertical-align: top;\n",
       "    }\n",
       "\n",
       "    .dataframe thead th {\n",
       "        text-align: right;\n",
       "    }\n",
       "</style>\n",
       "<table border=\"1\" class=\"dataframe\">\n",
       "  <thead>\n",
       "    <tr style=\"text-align: right;\">\n",
       "      <th></th>\n",
       "      <th>id</th>\n",
       "      <th>type</th>\n",
       "      <th>title</th>\n",
       "      <th>director</th>\n",
       "      <th>cast</th>\n",
       "      <th>country</th>\n",
       "      <th>date_added</th>\n",
       "      <th>release_year</th>\n",
       "      <th>rating_x</th>\n",
       "      <th>duration_int</th>\n",
       "      <th>duration_type</th>\n",
       "      <th>listed_in</th>\n",
       "      <th>description</th>\n",
       "      <th>userId</th>\n",
       "      <th>rating_y</th>\n",
       "      <th>timestamp</th>\n",
       "      <th>score</th>\n",
       "    </tr>\n",
       "  </thead>\n",
       "  <tbody>\n",
       "    <tr>\n",
       "      <th>0</th>\n",
       "      <td>as1</td>\n",
       "      <td>movie</td>\n",
       "      <td>the grand seduction</td>\n",
       "      <td>don mckellar</td>\n",
       "      <td>brendan gleeson, taylor kitsch, gordon pinsent</td>\n",
       "      <td>canada</td>\n",
       "      <td>2021-03-30</td>\n",
       "      <td>2014</td>\n",
       "      <td>g</td>\n",
       "      <td>113</td>\n",
       "      <td>min</td>\n",
       "      <td>comedy, drama</td>\n",
       "      <td>a small fishing village must procure a local d...</td>\n",
       "      <td>543</td>\n",
       "      <td>5.0</td>\n",
       "      <td>1059596582</td>\n",
       "      <td>3.4671</td>\n",
       "    </tr>\n",
       "    <tr>\n",
       "      <th>1</th>\n",
       "      <td>as1</td>\n",
       "      <td>movie</td>\n",
       "      <td>the grand seduction</td>\n",
       "      <td>don mckellar</td>\n",
       "      <td>brendan gleeson, taylor kitsch, gordon pinsent</td>\n",
       "      <td>canada</td>\n",
       "      <td>2021-03-30</td>\n",
       "      <td>2014</td>\n",
       "      <td>g</td>\n",
       "      <td>113</td>\n",
       "      <td>min</td>\n",
       "      <td>comedy, drama</td>\n",
       "      <td>a small fishing village must procure a local d...</td>\n",
       "      <td>595</td>\n",
       "      <td>3.0</td>\n",
       "      <td>839937603</td>\n",
       "      <td>3.4671</td>\n",
       "    </tr>\n",
       "  </tbody>\n",
       "</table>\n",
       "</div>"
      ],
      "text/plain": [
       "    id   type                title      director  \\\n",
       "0  as1  movie  the grand seduction  don mckellar   \n",
       "1  as1  movie  the grand seduction  don mckellar   \n",
       "\n",
       "                                             cast country  date_added  \\\n",
       "0  brendan gleeson, taylor kitsch, gordon pinsent  canada  2021-03-30   \n",
       "1  brendan gleeson, taylor kitsch, gordon pinsent  canada  2021-03-30   \n",
       "\n",
       "   release_year rating_x  duration_int duration_type      listed_in  \\\n",
       "0          2014        g           113           min  comedy, drama   \n",
       "1          2014        g           113           min  comedy, drama   \n",
       "\n",
       "                                         description  userId  rating_y  \\\n",
       "0  a small fishing village must procure a local d...     543       5.0   \n",
       "1  a small fishing village must procure a local d...     595       3.0   \n",
       "\n",
       "    timestamp   score  \n",
       "0  1059596582  3.4671  \n",
       "1   839937603  3.4671  "
      ]
     },
     "execution_count": 67,
     "metadata": {},
     "output_type": "execute_result"
    }
   ],
   "source": [
    "df_total = pd.read_csv('data_total.csv')\n",
    "df_total.head(2)"
   ]
  },
  {
   "cell_type": "code",
   "execution_count": 68,
   "metadata": {},
   "outputs": [
    {
     "name": "stdout",
     "output_type": "stream",
     "text": [
      "<class 'pandas.core.frame.DataFrame'>\n",
      "RangeIndex: 22998 entries, 0 to 22997\n",
      "Data columns (total 14 columns):\n",
      " #   Column         Non-Null Count  Dtype  \n",
      "---  ------         --------------  -----  \n",
      " 0   id             22998 non-null  object \n",
      " 1   type           22998 non-null  object \n",
      " 2   title          22998 non-null  object \n",
      " 3   director       14739 non-null  object \n",
      " 4   cast           17677 non-null  object \n",
      " 5   country        11499 non-null  object \n",
      " 6   date_added     13444 non-null  object \n",
      " 7   release_year   22998 non-null  int64  \n",
      " 8   rating         22998 non-null  object \n",
      " 9   duration_int   22998 non-null  int64  \n",
      " 10  duration_type  22516 non-null  object \n",
      " 11  listed_in      22998 non-null  object \n",
      " 12  description    22994 non-null  object \n",
      " 13  score          22998 non-null  float64\n",
      "dtypes: float64(1), int64(2), object(11)\n",
      "memory usage: 2.5+ MB\n"
     ]
    }
   ],
   "source": [
    "# Vemos la informacion del dataset. \n",
    "df.info()"
   ]
  },
  {
   "cell_type": "code",
   "execution_count": 69,
   "metadata": {},
   "outputs": [
    {
     "data": {
      "text/plain": [
       "id                   0\n",
       "type                 0\n",
       "title                0\n",
       "director          8259\n",
       "cast              5321\n",
       "country          11499\n",
       "date_added        9554\n",
       "release_year         0\n",
       "rating               0\n",
       "duration_int         0\n",
       "duration_type      482\n",
       "listed_in            0\n",
       "description          4\n",
       "score                0\n",
       "dtype: int64"
      ]
     },
     "execution_count": 69,
     "metadata": {},
     "output_type": "execute_result"
    }
   ],
   "source": [
    "# Vemos la cantidad de valores nulos por columna.\n",
    "df.isnull().sum()\n"
   ]
  },
  {
   "attachments": {},
   "cell_type": "markdown",
   "metadata": {},
   "source": [
    "#### Hacemos una Analisis por columna"
   ]
  },
  {
   "attachments": {},
   "cell_type": "markdown",
   "metadata": {},
   "source": [
    "### Director"
   ]
  },
  {
   "cell_type": "code",
   "execution_count": 70,
   "metadata": {},
   "outputs": [
    {
     "data": {
      "text/plain": [
       "mark knight              113\n",
       "cannis holder             61\n",
       "jay chapman               46\n",
       "moonbug entertainment     37\n",
       "arthur van merwijk        30\n",
       "                        ... \n",
       "charles wilkinson          1\n",
       "dominic brunt              1\n",
       "sean breathnach            1\n",
       "cindy jansen               1\n",
       "mozez singh                1\n",
       "Name: director, Length: 10095, dtype: int64"
      ]
     },
     "execution_count": 70,
     "metadata": {},
     "output_type": "execute_result"
    }
   ],
   "source": [
    "# Vemos la cantidad de veces que dirigio cada 'director'. \n",
    "df.director.value_counts()"
   ]
  },
  {
   "cell_type": "code",
   "execution_count": 71,
   "metadata": {},
   "outputs": [
    {
     "data": {
      "image/png": "[encoded data removed]",
      "text/plain": [
       "<Figure size 640x480 with 1 Axes>"
      ]
     },
     "metadata": {},
     "output_type": "display_data"
    }
   ],
   "source": [
    "# Para mayor interpretacion, lo graficamos en un grafico de barras. \n",
    "# Vemos los primeros 10 directores con mayor peliculas o series.\n",
    "df['director'].value_counts().head(10).plot(kind = 'bar' )\n",
    "plt.show()"
   ]
  },
  {
   "cell_type": "code",
   "execution_count": null,
   "metadata": {},
   "outputs": [],
   "source": []
  },
  {
   "attachments": {},
   "cell_type": "markdown",
   "metadata": {},
   "source": [
    "### Cast"
   ]
  },
  {
   "cell_type": "code",
   "execution_count": 72,
   "metadata": {},
   "outputs": [],
   "source": [
    "# Cargamos en una lista todos los actores.\n",
    "\n",
    "lista = []\n",
    "lista_split = []\n",
    "\n",
    "for i in df.cast:\n",
    "    if i is np.nan: \n",
    "        continue\n",
    "    lista.append(i)\n",
    "        \n",
    "for i in lista:\n",
    "    for j in i.split(','):\n",
    "        lista_split.append(j.strip())"
   ]
  },
  {
   "cell_type": "code",
   "execution_count": 73,
   "metadata": {},
   "outputs": [
    {
     "data": {
      "text/plain": [
       "anupam kher         60\n",
       "maggie binkley      56\n",
       "amitabh bachchan    47\n",
       "shah rukh khan      46\n",
       "jim cummings        44\n",
       "                    ..\n",
       "jackie radinsky      1\n",
       "jackie van beek      1\n",
       "jackie wade          1\n",
       "jackky bhagnani      1\n",
       "齋藤雅弘                 1\n",
       "Length: 62283, dtype: int64"
      ]
     },
     "execution_count": 73,
     "metadata": {},
     "output_type": "execute_result"
    }
   ],
   "source": [
    "# Vemos los actores con mayor participacion y el total de actores. \n",
    "df_cast = pd.DataFrame(lista_split)\n",
    "df_cast.value_counts()"
   ]
  },
  {
   "cell_type": "code",
   "execution_count": 74,
   "metadata": {},
   "outputs": [
    {
     "data": {
      "image/png": "[encoded data removed]",
      "text/plain": [
       "<Figure size 640x480 with 1 Axes>"
      ]
     },
     "metadata": {},
     "output_type": "display_data"
    }
   ],
   "source": [
    "# Graficamos los 10 actores con mayor participacion. \n",
    "# Para mayor interpretacion, lo graficamos en un grafico de barras. \n",
    "df_cast.value_counts().head(10).plot(kind = 'bar' )\n",
    "plt.show()\n"
   ]
  },
  {
   "cell_type": "code",
   "execution_count": null,
   "metadata": {},
   "outputs": [],
   "source": []
  },
  {
   "cell_type": "code",
   "execution_count": null,
   "metadata": {},
   "outputs": [],
   "source": []
  },
  {
   "attachments": {},
   "cell_type": "markdown",
   "metadata": {},
   "source": [
    "#### Country"
   ]
  },
  {
   "cell_type": "code",
   "execution_count": 75,
   "metadata": {},
   "outputs": [
    {
     "data": {
      "text/plain": [
       "united states                                                  4997\n",
       "india                                                          1203\n",
       "united kingdom                                                  583\n",
       "japan                                                           515\n",
       "canada                                                          237\n",
       "                                                               ... \n",
       "lebanon, united arab emirates, france, switzerland, germany       1\n",
       "france, belgium, italy                                            1\n",
       "lebanon, united states, united arab emirates                      1\n",
       "lebanon, france                                                   1\n",
       "united arab emirates, jordan                                      1\n",
       "Name: country, Length: 886, dtype: int64"
      ]
     },
     "execution_count": 75,
     "metadata": {},
     "output_type": "execute_result"
    }
   ],
   "source": [
    "# Vemos de que paises son las peliculas y series.\n",
    "df.country.value_counts()"
   ]
  },
  {
   "cell_type": "code",
   "execution_count": 76,
   "metadata": {},
   "outputs": [
    {
     "data": {
      "image/png": "[encoded data removed]",
      "text/plain": [
       "<Figure size 640x480 with 1 Axes>"
      ]
     },
     "metadata": {},
     "output_type": "display_data"
    }
   ],
   "source": [
    "# Para mayor interpretacion, lo graficamos en un grafico de barras. \n",
    "# Vemos los primeros 10 paises con mayor peliculas o series.\n",
    "df['country'].value_counts().head(10).plot(kind = 'bar' )\n",
    "plt.show()"
   ]
  },
  {
   "cell_type": "code",
   "execution_count": null,
   "metadata": {},
   "outputs": [],
   "source": []
  },
  {
   "cell_type": "markdown",
   "metadata": {},
   "source": [
    "### Generos"
   ]
  },
  {
   "cell_type": "code",
   "execution_count": 77,
   "metadata": {},
   "outputs": [],
   "source": [
    "# Cargamos en una lista todos los generos.\n",
    "\n",
    "lista = []\n",
    "lista_split = []\n",
    "\n",
    "for i in df.listed_in:\n",
    "    if i is np.nan: \n",
    "        continue\n",
    "    lista.append(i)\n",
    "        \n",
    "for i in lista:\n",
    "    for j in i.split(','):\n",
    "        lista_split.append(j.strip())"
   ]
  },
  {
   "cell_type": "code",
   "execution_count": 78,
   "metadata": {},
   "outputs": [
    {
     "data": {
      "text/plain": [
       "drama                     4728\n",
       "comedy                    3292\n",
       "international movies      2752\n",
       "dramas                    2427\n",
       "action                    2212\n",
       "                          ... \n",
       "soap opera / melodrama       2\n",
       "romantic comedy              2\n",
       "talk show                    1\n",
       "travel                       1\n",
       "police/cop                   1\n",
       "Length: 120, dtype: int64"
      ]
     },
     "execution_count": 78,
     "metadata": {},
     "output_type": "execute_result"
    }
   ],
   "source": [
    "# Vemos los generos que mas se repiten, y el total de generos que hay. \n",
    "df_generos = pd.DataFrame(lista_split)\n",
    "df_generos.value_counts()"
   ]
  },
  {
   "cell_type": "code",
   "execution_count": null,
   "metadata": {},
   "outputs": [],
   "source": []
  }
 ],
 "metadata": {
  "kernelspec": {
   "display_name": "Python 3",
   "language": "python",
   "name": "python3"
  },
  "language_info": {
   "codemirror_mode": {
    "name": "ipython",
    "version": 3
   },
   "file_extension": ".py",
   "mimetype": "text/x-python",
   "name": "python",
   "nbconvert_exporter": "python",
   "pygments_lexer": "ipython3",
   "version": "3.10.6"
  },
  "orig_nbformat": 4,
  "vscode": {
   "interpreter": {
    "hash": "26de051ba29f2982a8de78e945f0abaf191376122a1563185a90213a26c5da77"
   }
  }
 },
 "nbformat": 4,
 "nbformat_minor": 2
}
